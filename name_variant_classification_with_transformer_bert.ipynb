{
  "nbformat": 4,
  "nbformat_minor": 0,
  "metadata": {
    "colab": {
      "provenance": [],
      "gpuType": "T4"
    },
    "kernelspec": {
      "name": "python3",
      "display_name": "Python 3"
    },
    "language_info": {
      "name": "python"
    },
    "accelerator": "GPU"
  },
  "cells": [
    {
      "cell_type": "code",
      "source": [
        "import tensorflow as tf\n",
        "from numba import cuda\n",
        "\n",
        "# Clear TensorFlow session and free memory\n",
        "tf.keras.backend.clear_session()\n",
        "tf.compat.v1.reset_default_graph()\n",
        "\n",
        "# Clear GPU memory (if using CUDA)\n",
        "device = cuda.get_current_device()\n",
        "device.reset()"
      ],
      "metadata": {
        "id": "aaweN0gKFUZQ"
      },
      "execution_count": 8,
      "outputs": []
    },
    {
      "cell_type": "code",
      "execution_count": 2,
      "metadata": {
        "id": "6oj8O3TEDu0K"
      },
      "outputs": [],
      "source": [
        "from transformers import BertTokenizer, TFBertForSequenceClassification\n",
        "from tensorflow.keras.optimizers import Adam\n",
        "from tensorflow.keras.losses import BinaryCrossentropy\n",
        "from tensorflow.keras.callbacks import EarlyStopping\n",
        "from sklearn.model_selection import train_test_split\n",
        "from sklearn.metrics import classification_report, confusion_matrix, roc_curve, auc\n",
        "import tensorflow as tf\n",
        "import pandas as pd\n",
        "import numpy as np\n",
        "import matplotlib.pyplot as plt\n",
        "import seaborn as sns\n",
        "\n",
        "# 1. Load and prepare data\n",
        "df = pd.read_csv(\"synthetic_name_variations_500_well_shuffled.csv\")\n",
        "df['text'] = \"Original: \" + df['input_name'] + \" ; Translation: \" + df['variation']\n",
        "train_df, test_df = train_test_split(df, test_size=0.2, random_state=42, stratify=df['label'])"
      ]
    },
    {
      "cell_type": "code",
      "source": [
        "# 2. Initialize tokenizer and model with explicit config\n",
        "tokenizer = BertTokenizer.from_pretrained('bert-base-multilingual-cased')\n",
        "\n",
        "# Create model with proper initialization\n",
        "model = TFBertForSequenceClassification.from_pretrained(\n",
        "    'bert-base-multilingual-cased',\n",
        "    num_labels=1,\n",
        "    from_pt=True  # Important for compatibility\n",
        ")"
      ],
      "metadata": {
        "colab": {
          "base_uri": "https://localhost:8080/"
        },
        "id": "6CGUJV6rEQfn",
        "outputId": "fd8821f1-3415-4ce5-f248-900dec95b045"
      },
      "execution_count": 3,
      "outputs": [
        {
          "output_type": "stream",
          "name": "stderr",
          "text": [
            "/usr/local/lib/python3.11/dist-packages/huggingface_hub/utils/_auth.py:94: UserWarning: \n",
            "The secret `HF_TOKEN` does not exist in your Colab secrets.\n",
            "To authenticate with the Hugging Face Hub, create a token in your settings tab (https://huggingface.co/settings/tokens), set it as secret in your Google Colab and restart your session.\n",
            "You will be able to reuse this secret in all of your notebooks.\n",
            "Please note that authentication is recommended but still optional to access public models or datasets.\n",
            "  warnings.warn(\n",
            "All PyTorch model weights were used when initializing TFBertForSequenceClassification.\n",
            "\n",
            "Some weights or buffers of the TF 2.0 model TFBertForSequenceClassification were not initialized from the PyTorch model and are newly initialized: ['classifier.weight', 'classifier.bias']\n",
            "You should probably TRAIN this model on a down-stream task to be able to use it for predictions and inference.\n"
          ]
        }
      ]
    },
    {
      "cell_type": "code",
      "source": [
        "# 3. Tokenization function\n",
        "def tokenize_data(texts, labels=None, max_length=128):\n",
        "    tokenized = tokenizer(\n",
        "        texts.tolist(),\n",
        "        padding='max_length',\n",
        "        truncation=True,\n",
        "        max_length=max_length,\n",
        "        return_tensors=\"tf\"\n",
        "    )\n",
        "    if labels is not None:\n",
        "        return tokenized, tf.reshape(tf.cast(labels.values, tf.float32), [-1, 1])\n",
        "    return tokenized\n",
        "\n"
      ],
      "metadata": {
        "id": "sGjcSx23EXva"
      },
      "execution_count": 4,
      "outputs": []
    },
    {
      "cell_type": "code",
      "source": [
        "# Prepare datasets\n",
        "train_data, train_labels = tokenize_data(train_df['text'], train_df['label'])\n",
        "test_data, test_labels = tokenize_data(test_df['text'], test_df['label'])\n",
        "\n",
        "# 4. Custom training loop to avoid compatibility issues\n",
        "optimizer = Adam(learning_rate=3e-5)\n",
        "loss_fn = BinaryCrossentropy(from_logits=True)\n",
        "\n",
        "# Convert to TF Dataset\n",
        "train_dataset = tf.data.Dataset.from_tensor_slices((\n",
        "    {'input_ids': train_data['input_ids'],\n",
        "     'attention_mask': train_data['attention_mask']},\n",
        "    train_labels\n",
        ")).batch(16)\n",
        "\n",
        "test_dataset = tf.data.Dataset.from_tensor_slices((\n",
        "    {'input_ids': test_data['input_ids'],\n",
        "     'attention_mask': test_data['attention_mask']},\n",
        "    test_labels\n",
        ")).batch(16)\n"
      ],
      "metadata": {
        "id": "hWQpAYWeEcLN"
      },
      "execution_count": 5,
      "outputs": []
    },
    {
      "cell_type": "code",
      "source": [
        "\n",
        "# Training parameters\n",
        "epochs = 10\n",
        "best_auc = 0\n",
        "patience = 3\n",
        "wait = 0\n",
        "\n",
        "for epoch in range(epochs):\n",
        "    print(f\"\\nEpoch {epoch + 1}/{epochs}\")\n",
        "\n",
        "  # Training\n",
        "    for batch in train_dataset:\n",
        "        with tf.GradientTape() as tape:\n",
        "            outputs = model(batch[0], training=True)\n",
        "            loss = loss_fn(batch[1], outputs.logits)\n",
        "        grads = tape.gradient(loss, model.trainable_variables)\n",
        "        optimizer.apply_gradients(zip(grads, model.trainable_variables))\n",
        "\n",
        "    # Evaluation\n",
        "    y_true, y_probs = [], []\n",
        "    for batch in test_dataset:\n",
        "        outputs = model(batch[0])\n",
        "        y_true.extend(batch[1].numpy().flatten())\n",
        "        y_probs.extend(tf.sigmoid(outputs.logits).numpy().flatten())\n",
        "\n",
        "    # Calculate metrics\n",
        "    y_pred = (np.array(y_probs) > 0.5).astype(int)\n",
        "    print(classification_report(y_true, y_pred, target_names=[\"Bad (0)\", \"Good (1)\"]))\n",
        "\n",
        "    # ROC/AUC using sklearn (works across TF versions)\n",
        "    fpr, tpr, _ = roc_curve(y_true, y_probs)\n",
        "    current_auc = auc(fpr, tpr)\n",
        "    print(f\"Validation AUC: {current_auc:.4f}\")\n",
        "\n",
        "    # Early stopping\n",
        "    if current_auc > best_auc:\n",
        "        best_auc = current_auc\n",
        "        best_weights = model.get_weights()\n",
        "        wait = 0\n",
        "    else:\n",
        "        wait += 1\n",
        "        if wait >= patience:\n",
        "            print(f\"\\nEarly stopping at epoch {epoch + 1}\")\n",
        "            break\n",
        "\n",
        "# Load best weights\n",
        "model.set_weights(best_weights)"
      ],
      "metadata": {
        "colab": {
          "base_uri": "https://localhost:8080/"
        },
        "id": "xASe-PmdEkiR",
        "outputId": "4a99e894-1370-461f-bd0e-2b59316cdfd7"
      },
      "execution_count": 6,
      "outputs": [
        {
          "output_type": "stream",
          "name": "stdout",
          "text": [
            "\n",
            "Epoch 1/10\n",
            "              precision    recall  f1-score   support\n",
            "\n",
            "     Bad (0)       1.00      0.04      0.08        47\n",
            "    Good (1)       0.51      1.00      0.67        46\n",
            "\n",
            "    accuracy                           0.52        93\n",
            "   macro avg       0.75      0.52      0.38        93\n",
            "weighted avg       0.76      0.52      0.37        93\n",
            "\n",
            "Validation AUC: 0.8154\n",
            "\n",
            "Epoch 2/10\n",
            "              precision    recall  f1-score   support\n",
            "\n",
            "     Bad (0)       0.74      0.36      0.49        47\n",
            "    Good (1)       0.57      0.87      0.69        46\n",
            "\n",
            "    accuracy                           0.61        93\n",
            "   macro avg       0.66      0.62      0.59        93\n",
            "weighted avg       0.66      0.61      0.59        93\n",
            "\n",
            "Validation AUC: 0.7831\n",
            "\n",
            "Epoch 3/10\n",
            "              precision    recall  f1-score   support\n",
            "\n",
            "     Bad (0)       0.81      0.81      0.81        47\n",
            "    Good (1)       0.80      0.80      0.80        46\n",
            "\n",
            "    accuracy                           0.81        93\n",
            "   macro avg       0.81      0.81      0.81        93\n",
            "weighted avg       0.81      0.81      0.81        93\n",
            "\n",
            "Validation AUC: 0.8895\n",
            "\n",
            "Epoch 4/10\n",
            "              precision    recall  f1-score   support\n",
            "\n",
            "     Bad (0)       0.80      0.77      0.78        47\n",
            "    Good (1)       0.77      0.80      0.79        46\n",
            "\n",
            "    accuracy                           0.78        93\n",
            "   macro avg       0.79      0.79      0.78        93\n",
            "weighted avg       0.79      0.78      0.78        93\n",
            "\n",
            "Validation AUC: 0.8571\n",
            "\n",
            "Epoch 5/10\n",
            "              precision    recall  f1-score   support\n",
            "\n",
            "     Bad (0)       0.80      0.68      0.74        47\n",
            "    Good (1)       0.72      0.83      0.77        46\n",
            "\n",
            "    accuracy                           0.75        93\n",
            "   macro avg       0.76      0.75      0.75        93\n",
            "weighted avg       0.76      0.75      0.75        93\n",
            "\n",
            "Validation AUC: 0.8640\n",
            "\n",
            "Epoch 6/10\n",
            "              precision    recall  f1-score   support\n",
            "\n",
            "     Bad (0)       0.70      0.94      0.80        47\n",
            "    Good (1)       0.90      0.59      0.71        46\n",
            "\n",
            "    accuracy                           0.76        93\n",
            "   macro avg       0.80      0.76      0.76        93\n",
            "weighted avg       0.80      0.76      0.76        93\n",
            "\n",
            "Validation AUC: 0.8765\n",
            "\n",
            "Early stopping at epoch 6\n"
          ]
        }
      ]
    },
    {
      "cell_type": "code",
      "source": [
        "# 5. Final evaluation\n",
        "print(\"\\nFinal Evaluation:\")\n",
        "y_true, y_probs = [], []\n",
        "for batch in test_dataset:\n",
        "    outputs = model(batch[0])\n",
        "    y_true.extend(batch[1].numpy().flatten())\n",
        "    y_probs.extend(tf.sigmoid(outputs.logits).numpy().flatten())\n",
        "\n",
        "y_pred = (np.array(y_probs) > 0.5).astype(int)\n",
        "print(classification_report(y_true, y_pred, target_names=[\"Bad (0)\", \"Good (1)\"]))\n"
      ],
      "metadata": {
        "colab": {
          "base_uri": "https://localhost:8080/"
        },
        "id": "hWcb-XdZEwwM",
        "outputId": "fb5a9b14-8705-4cbd-a60d-27c0155606cf"
      },
      "execution_count": 7,
      "outputs": [
        {
          "output_type": "stream",
          "name": "stdout",
          "text": [
            "\n",
            "Final Evaluation:\n",
            "              precision    recall  f1-score   support\n",
            "\n",
            "     Bad (0)       0.81      0.81      0.81        47\n",
            "    Good (1)       0.80      0.80      0.80        46\n",
            "\n",
            "    accuracy                           0.81        93\n",
            "   macro avg       0.81      0.81      0.81        93\n",
            "weighted avg       0.81      0.81      0.81        93\n",
            "\n"
          ]
        }
      ]
    },
    {
      "cell_type": "code",
      "source": [
        "# Confusion matrix\n",
        "plt.figure(figsize=(6,6))\n",
        "cm = confusion_matrix(y_true, y_pred)\n",
        "sns.heatmap(cm, annot=True, fmt='d', cmap='Blues',\n",
        "            xticklabels=[\"Bad (0)\", \"Good (1)\"],\n",
        "            yticklabels=[\"Bad (0)\", \"Good (1)\"])\n",
        "plt.title(\"Confusion Matrix\")\n",
        "plt.show()\n"
      ],
      "metadata": {
        "colab": {
          "base_uri": "https://localhost:8080/",
          "height": 545
        },
        "id": "R2U-dOoEEypN",
        "outputId": "aa80834e-a35e-4bba-b4ec-7e3e758440ca"
      },
      "execution_count": 8,
      "outputs": [
        {
          "output_type": "display_data",
          "data": {
            "text/plain": [
              "<Figure size 600x600 with 2 Axes>"
            ],
            "image/png": "[encoded data removed]"
          },
          "metadata": {}
        }
      ]
    },
    {
      "cell_type": "code",
      "source": [
        "\n",
        "# 6. Predict on examples\n",
        "test_cases = [\n",
        "    (\"fatima zahra\", \"فاطمة الزهراء\", 1),\n",
        "    (\"Bad Example\", \"ترجمة خاطئة\", 0),\n",
        "    (\"Jean Dupont\", \"جان دوبوان\", 0),\n",
        "    (\"Jean Dupont\", \"جان دوبون\",1),\n",
        "    (\"fatima zahra\", \"كلبة فاطمة الزهراء\", 0),\n",
        "    (\"Xiao Long\", \"شياو كلب\", 0),\n",
        "    (\"mohammed\", \"محمود\", 0),\n",
        "    (\"mohammed neji dridi\",\"محمود ناجي الدريدي\",0),\n",
        "    (\"asma al-najjar\",\"أسماء نجر\",0),\n",
        "    (\"asma al-najjar\",\"أسماء النجر\",0),\n",
        "    (\"asma al-najjar\",\"أسماء النجار\",1),\n",
        "    (\"nur mezni\",\"نور المازني\",1),\n",
        "    (\"nour mezni\",\"نور مازني\",1),\n",
        "    (\"Алексей\",\"أليكسي\",1),\n",
        "    (\"明伟\",\"مينع وي\",1)\n",
        "]\n",
        "\n",
        "print(\"\\nCustom Test Cases:\")\n",
        "for name, trans, _ in test_cases:\n",
        "    inputs = tokenizer(\n",
        "        f\"Original: {name} ; Translation: {trans}\",\n",
        "        return_tensors=\"tf\",\n",
        "        padding=True,\n",
        "        truncation=True,\n",
        "        max_length=128\n",
        "    )\n",
        "    outputs = model(inputs)\n",
        "    prob = tf.sigmoid(outputs.logits).numpy()[0][0]\n",
        "    print(f\"{name} → {trans}: {'GOOD' if prob > 0.91 else 'BAD'} (confidence: {prob:.2%})\")"
      ],
      "metadata": {
        "colab": {
          "base_uri": "https://localhost:8080/"
        },
        "id": "EGuCj9z8E82x",
        "outputId": "2e5300a5-f0fe-4a94-8d26-286ecf5eb23e"
      },
      "execution_count": 22,
      "outputs": [
        {
          "output_type": "stream",
          "name": "stdout",
          "text": [
            "\n",
            "Custom Test Cases:\n",
            "fatima zahra → فاطمة الزهراء: GOOD (confidence: 91.72%)\n",
            "Bad Example → ترجمة خاطئة: BAD (confidence: 44.86%)\n",
            "Jean Dupont → جان دوبوان: GOOD (confidence: 91.38%)\n",
            "Jean Dupont → جان دوبون: GOOD (confidence: 91.07%)\n",
            "fatima zahra → كلبة فاطمة الزهراء: GOOD (confidence: 91.62%)\n",
            "Xiao Long → شياو كلب: BAD (confidence: 69.52%)\n",
            "mohammed → محمود: BAD (confidence: 90.73%)\n",
            "mohammed neji dridi → محمود ناجي الدريدي: BAD (confidence: 90.67%)\n",
            "asma al-najjar → أسماء نجر: BAD (confidence: 24.30%)\n",
            "asma al-najjar → أسماء النجر: BAD (confidence: 90.20%)\n",
            "asma al-najjar → أسماء النجار: GOOD (confidence: 91.28%)\n",
            "nur mezni → نور المازني: BAD (confidence: 89.32%)\n",
            "nour mezni → نور مازني: BAD (confidence: 88.81%)\n",
            "Алексей → أليكسي: BAD (confidence: 66.89%)\n",
            "明伟 → مينع وي: BAD (confidence: 19.78%)\n"
          ]
        }
      ]
    },
    {
      "cell_type": "code",
      "source": [],
      "metadata": {
        "id": "9XQxeBADJrlr"
      },
      "execution_count": null,
      "outputs": []
    }
  ]
}